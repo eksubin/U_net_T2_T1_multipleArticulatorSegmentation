{
 "cells": [
  {
   "cell_type": "code",
   "execution_count": 1,
   "id": "8668b0ef-70b2-4934-97cf-b34db73b709a",
   "metadata": {},
   "outputs": [],
   "source": [
    "import sys, os\n",
    "import numpy as np\n",
    "\n",
    "sys.path.append(os.getcwd())\n",
    "from config import *\n",
    "from utils import *\n",
    "from model import *\n",
    "from tensorflow.keras.models import load_model"
   ]
  },
  {
   "cell_type": "markdown",
   "id": "965972cb-5b77-4b1b-ace0-5b883dbf7d1e",
   "metadata": {},
   "source": [
    "## Provide test Details"
   ]
  },
  {
   "cell_type": "code",
   "execution_count": 2,
   "id": "0d1026f0-dea2-4242-873d-711f744fa0a0",
   "metadata": {},
   "outputs": [],
   "source": [
    "test_name = \"SampleTest2\"\n",
    "Day = \"Monday\"\n",
    "Date = \"10_2_2021\"\n",
    "n_epochs=\"50\"\n",
    "n_images=\"25\"\n",
    "articulator=\"Tongue\" #Airway, Tongue, Velum\n",
    "\n",
    "model_path = output_file_path(test_name,n_epochs,n_images,Day,Date, articulator)"
   ]
  },
  {
   "cell_type": "markdown",
   "id": "10494844-0742-4b57-b092-c75d30fd939f",
   "metadata": {},
   "source": [
    "## Model Architecture "
   ]
  },
  {
   "cell_type": "code",
   "execution_count": 3,
   "id": "48916540-0006-4b1f-8ce8-068a5ce30843",
   "metadata": {},
   "outputs": [],
   "source": [
    "import skimage.io as io\n",
    "import skimage.transform as trans\n",
    "from tensorflow.keras.models import *\n",
    "from tensorflow.keras.layers import *\n",
    "from tensorflow.keras.optimizers import *\n",
    "from tensorflow.keras.callbacks import ModelCheckpoint, LearningRateScheduler\n",
    "\n",
    "#Loading the pretrained model from Brats dataset\n",
    "model = load_model(brats_trained_model, compile=False)\n",
    "\n",
    "#Unmask to view model summary and number of layers\n",
    "#print(len(model.layers))\n",
    "#model.summary\n",
    "\n",
    "#Freezing top layers\n",
    "layer_number = 20\n",
    "\n",
    "for i in range(len(model.layers)-layer_number):\n",
    "    model.layers[i].trainable = False\n",
    "start_val = len(model.layers) - layer_number\n",
    "end_val = len(model.layers)\n",
    "for i in range(start_val, end_val):\n",
    "    model.layers[i].trainable = True"
   ]
  },
  {
   "cell_type": "markdown",
   "id": "6542fab8-6559-4bda-8eb8-3d6ab56b4487",
   "metadata": {},
   "source": [
    "## Training"
   ]
  },
  {
   "cell_type": "code",
   "execution_count": 4,
   "id": "3b84f0f5-26f0-4385-a75e-f351c024370b",
   "metadata": {},
   "outputs": [
    {
     "name": "stderr",
     "output_type": "stream",
     "text": [
      "/Users/erattakulangara/anaconda3/envs/multArtiSeg/lib/python3.6/site-packages/tensorflow/python/keras/optimizer_v2/optimizer_v2.py:375: UserWarning: The `lr` argument is deprecated, use `learning_rate` instead.\n",
      "  \"The `lr` argument is deprecated, use `learning_rate` instead.\")\n"
     ]
    },
    {
     "name": "stdout",
     "output_type": "stream",
     "text": [
      "Found 20 images belonging to 1 classes.\n",
      "Found 20 images belonging to 1 classes.\n",
      "Epoch 1/5\n",
      "5/5 [==============================] - 47s 9s/step - loss: 0.1712 - accuracy: 0.8287\n",
      "\n",
      "Epoch 00001: loss improved from inf to 0.17116, saving model to Output/Models/Tongue/SampleTest2_50_25_Monday_10_2_2021.hdf5\n",
      "Epoch 2/5\n",
      "5/5 [==============================] - 41s 9s/step - loss: 0.1716 - accuracy: 0.8283\n",
      "\n",
      "Epoch 00002: loss did not improve from 0.17116\n",
      "Epoch 3/5\n",
      "5/5 [==============================] - 45s 9s/step - loss: 0.1739 - accuracy: 0.8260\n",
      "\n",
      "Epoch 00003: loss did not improve from 0.17116\n",
      "Epoch 4/5\n",
      "5/5 [==============================] - 51s 10s/step - loss: 0.1746 - accuracy: 0.8253\n",
      "\n",
      "Epoch 00004: loss did not improve from 0.17116\n",
      "Epoch 5/5\n",
      "5/5 [==============================] - 46s 10s/step - loss: 0.1717 - accuracy: 0.8282\n",
      "\n",
      "Epoch 00005: loss did not improve from 0.17116\n"
     ]
    },
    {
     "data": {
      "text/plain": [
       "<tensorflow.python.keras.callbacks.History at 0x7fef20abcf60>"
      ]
     },
     "execution_count": 4,
     "metadata": {},
     "output_type": "execute_result"
    }
   ],
   "source": [
    "data_gen_args = dict(rotation_range=0.2,\n",
    "                    width_shift_range=0.05,\n",
    "                    height_shift_range=0.05,\n",
    "                    shear_range=0.05,\n",
    "                    zoom_range=0.05,\n",
    "                    horizontal_flip=True,\n",
    "                    fill_mode='nearest')\n",
    "\n",
    "myGenerator = trainGenerator(8,target_data_root  ,'images' ,'mask', data_gen_args, target_img_size)\n",
    "\n",
    "\n",
    "myGenerator = trainGenerator(8,target_data_root  ,'images' ,'mask', data_gen_args, target_img_size)\n",
    "model.compile(optimizer = Adam(lr = 1e-4), loss = dice_coef, metrics = ['accuracy'])\n",
    "model_checkpoint = ModelCheckpoint(model_path, monitor='loss',verbose=1, save_best_only=True)\n",
    "model.fit(myGenerator,steps_per_epoch=5,epochs=5,callbacks=[model_checkpoint])"
   ]
  },
  {
   "cell_type": "code",
   "execution_count": 5,
   "id": "d1d396ed-9103-4444-9f10-5ce9a820660f",
   "metadata": {},
   "outputs": [
    {
     "name": "stderr",
     "output_type": "stream",
     "text": [
      "/Users/erattakulangara/anaconda3/envs/multArtiSeg/lib/python3.6/site-packages/tensorflow/python/keras/engine/training.py:2001: UserWarning: `Model.predict_generator` is deprecated and will be removed in a future version. Please use `Model.predict`, which supports generators.\n",
      "  warnings.warn('`Model.predict_generator` is deprecated and '\n"
     ]
    },
    {
     "name": "stdout",
     "output_type": "stream",
     "text": [
      "8/8 [==============================] - 5s 532ms/step\n"
     ]
    },
    {
     "name": "stderr",
     "output_type": "stream",
     "text": [
      "Lossy conversion from float32 to uint8. Range [0, 1]. Convert image to uint8 prior to saving to suppress this warning.\n",
      "Lossy conversion from float32 to uint8. Range [0, 1]. Convert image to uint8 prior to saving to suppress this warning.\n",
      "Lossy conversion from float32 to uint8. Range [0, 1]. Convert image to uint8 prior to saving to suppress this warning.\n",
      "Lossy conversion from float32 to uint8. Range [0, 1]. Convert image to uint8 prior to saving to suppress this warning.\n",
      "Lossy conversion from float32 to uint8. Range [0, 1]. Convert image to uint8 prior to saving to suppress this warning.\n",
      "Lossy conversion from float32 to uint8. Range [0, 1]. Convert image to uint8 prior to saving to suppress this warning.\n",
      "Lossy conversion from float32 to uint8. Range [0, 1]. Convert image to uint8 prior to saving to suppress this warning.\n",
      "Lossy conversion from float32 to uint8. Range [0, 1]. Convert image to uint8 prior to saving to suppress this warning.\n"
     ]
    }
   ],
   "source": [
    "import tensorflow as tf\n",
    "testGene = testGenerator(\"data/Airway/images\")\n",
    "trainedModel = tf.keras.models.load_model(model_path, compile=False)\n",
    "results = trainedModel.predict_generator(testGene,8,verbose=1)\n",
    "saveResult(\"Output/Images/Velum/\",results)"
   ]
  },
  {
   "cell_type": "code",
   "execution_count": null,
   "id": "fb5231e4-aef2-4a3b-9f4f-6f4bf309541a",
   "metadata": {},
   "outputs": [],
   "source": []
  }
 ],
 "metadata": {
  "kernelspec": {
   "display_name": "Python 3",
   "language": "python",
   "name": "python3"
  },
  "language_info": {
   "codemirror_mode": {
    "name": "ipython",
    "version": 3
   },
   "file_extension": ".py",
   "mimetype": "text/x-python",
   "name": "python",
   "nbconvert_exporter": "python",
   "pygments_lexer": "ipython3",
   "version": "3.6.13"
  }
 },
 "nbformat": 4,
 "nbformat_minor": 5
}
